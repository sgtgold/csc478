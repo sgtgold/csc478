{
 "cells": [
  {
   "cell_type": "markdown",
   "metadata": {},
   "source": [
    "In this file, the performance of the builtin algorithms for the Surprise engine is tested with the 100k Movielens Dataset. The results help us understand which of those algorithms perform best in our dataset."
   ]
  },
  {
   "cell_type": "code",
   "execution_count": 8,
   "metadata": {
    "collapsed": false
   },
   "outputs": [],
   "source": [
    "import surprise\n",
    "from surprise import Dataset\n",
    "from surprise import evaluate, print_perf\n",
    "from surprise import KNNBasic, KNNWithMeans,KNNBaseline,SVD,NMF\n",
    "from surprise import GridSearch\n"
   ]
  },
  {
   "cell_type": "code",
   "execution_count": 7,
   "metadata": {
    "collapsed": true
   },
   "outputs": [],
   "source": [
    "# Load the movielens-100k dataset (download it if needed),\n",
    "# and split it into 3 folds for cross-validation.\n",
    "data = Dataset.load_builtin('ml-100k')\n",
    "data.split(n_folds=3)"
   ]
  },
  {
   "cell_type": "code",
   "execution_count": 9,
   "metadata": {
    "collapsed": false
   },
   "outputs": [],
   "source": [
    "#trial with 2 best algorithms according to the Documentation\n",
    "knn=KNNBaseline()\n",
    "svd=SVD()"
   ]
  },
  {
   "cell_type": "code",
   "execution_count": 10,
   "metadata": {
    "collapsed": false
   },
   "outputs": [
    {
     "name": "stdout",
     "output_type": "stream",
     "text": [
      "Evaluating RMSE, MAE of algorithm KNNBaseline.\n",
      "\n",
      "------------\n",
      "Fold 1\n",
      "Estimating biases using als...\n",
      "Computing the msd similarity matrix...\n",
      "Done computing similarity matrix.\n",
      "RMSE: 0.9403\n",
      "MAE:  0.7407\n",
      "------------\n",
      "Fold 2\n",
      "Estimating biases using als...\n",
      "Computing the msd similarity matrix...\n",
      "Done computing similarity matrix.\n",
      "RMSE: 0.9304\n",
      "MAE:  0.7355\n",
      "------------\n",
      "Fold 3\n",
      "Estimating biases using als...\n",
      "Computing the msd similarity matrix...\n",
      "Done computing similarity matrix.\n",
      "RMSE: 0.9384\n",
      "MAE:  0.7383\n",
      "------------\n",
      "------------\n",
      "Mean RMSE: 0.9363\n",
      "Mean MAE : 0.7382\n",
      "------------\n",
      "------------\n"
     ]
    }
   ],
   "source": [
    "%timeit\n",
    "perfknn=evaluate(knn, data, measures=['RMSE', 'MAE'])"
   ]
  },
  {
   "cell_type": "code",
   "execution_count": 18,
   "metadata": {
    "collapsed": false
   },
   "outputs": [],
   "source": [
    "param_grid = {'k': [20,30,40,50,60]}"
   ]
  },
  {
   "cell_type": "code",
   "execution_count": 21,
   "metadata": {
    "collapsed": true
   },
   "outputs": [],
   "source": [
    "grid_searchknn = GridSearch(KNNBaseline, param_grid, measures=['RMSE', 'MAE'])"
   ]
  },
  {
   "cell_type": "code",
   "execution_count": 22,
   "metadata": {
    "collapsed": false
   },
   "outputs": [
    {
     "name": "stdout",
     "output_type": "stream",
     "text": [
      "------------\n",
      "Parameters combination 1 of 5\n",
      "params:  {'k': 20}\n",
      "Evaluating RMSE, MAE of algorithm KNNBaseline.\n",
      "\n",
      "Estimating biases using als...\n",
      "Computing the msd similarity matrix...\n",
      "Done computing similarity matrix.\n",
      "Estimating biases using als...\n",
      "Computing the msd similarity matrix...\n",
      "Done computing similarity matrix.\n",
      "Estimating biases using als...\n",
      "Computing the msd similarity matrix...\n",
      "Done computing similarity matrix.\n",
      "------------\n",
      "Mean RMSE: 0.9415\n",
      "Mean MAE : 0.7420\n",
      "------------\n",
      "------------\n",
      "Parameters combination 2 of 5\n",
      "params:  {'k': 30}\n",
      "Evaluating RMSE, MAE of algorithm KNNBaseline.\n",
      "\n",
      "Estimating biases using als...\n",
      "Computing the msd similarity matrix...\n",
      "Done computing similarity matrix.\n",
      "Estimating biases using als...\n",
      "Computing the msd similarity matrix...\n",
      "Done computing similarity matrix.\n",
      "Estimating biases using als...\n",
      "Computing the msd similarity matrix...\n",
      "Done computing similarity matrix.\n",
      "------------\n",
      "Mean RMSE: 0.9377\n",
      "Mean MAE : 0.7390\n",
      "------------\n",
      "------------\n",
      "Parameters combination 3 of 5\n",
      "params:  {'k': 40}\n",
      "Evaluating RMSE, MAE of algorithm KNNBaseline.\n",
      "\n",
      "Estimating biases using als...\n",
      "Computing the msd similarity matrix...\n",
      "Done computing similarity matrix.\n",
      "Estimating biases using als...\n",
      "Computing the msd similarity matrix...\n",
      "Done computing similarity matrix.\n",
      "Estimating biases using als...\n",
      "Computing the msd similarity matrix...\n",
      "Done computing similarity matrix.\n",
      "------------\n",
      "Mean RMSE: 0.9363\n",
      "Mean MAE : 0.7382\n",
      "------------\n",
      "------------\n",
      "Parameters combination 4 of 5\n",
      "params:  {'k': 50}\n",
      "Evaluating RMSE, MAE of algorithm KNNBaseline.\n",
      "\n",
      "Estimating biases using als...\n",
      "Computing the msd similarity matrix...\n",
      "Done computing similarity matrix.\n",
      "Estimating biases using als...\n",
      "Computing the msd similarity matrix...\n",
      "Done computing similarity matrix.\n",
      "Estimating biases using als...\n",
      "Computing the msd similarity matrix...\n",
      "Done computing similarity matrix.\n",
      "------------\n",
      "Mean RMSE: 0.9363\n",
      "Mean MAE : 0.7383\n",
      "------------\n",
      "------------\n",
      "Parameters combination 5 of 5\n",
      "params:  {'k': 60}\n",
      "Evaluating RMSE, MAE of algorithm KNNBaseline.\n",
      "\n",
      "Estimating biases using als...\n",
      "Computing the msd similarity matrix...\n",
      "Done computing similarity matrix.\n",
      "Estimating biases using als...\n",
      "Computing the msd similarity matrix...\n",
      "Done computing similarity matrix.\n",
      "Estimating biases using als...\n",
      "Computing the msd similarity matrix...\n",
      "Done computing similarity matrix.\n",
      "------------\n",
      "Mean RMSE: 0.9365\n",
      "Mean MAE : 0.7385\n",
      "------------\n"
     ]
    }
   ],
   "source": [
    "grid_searchknn.evaluate(data)"
   ]
  },
  {
   "cell_type": "code",
   "execution_count": 34,
   "metadata": {
    "collapsed": true
   },
   "outputs": [],
   "source": [
    "param_grid = {'n_epochs': [20], 'lr_all': [0.005],\n",
    "              'reg_all': [0.05, 0.1,0.08,0.02],'n_factors':[150]}\n",
    "grid_searchsvd = GridSearch(SVD, param_grid, measures=['RMSE', 'MAE','FCP'])\n",
    "\n"
   ]
  },
  {
   "cell_type": "code",
   "execution_count": 35,
   "metadata": {
    "collapsed": false
   },
   "outputs": [
    {
     "name": "stdout",
     "output_type": "stream",
     "text": [
      "------------\n",
      "Parameters combination 1 of 4\n",
      "params:  {'lr_all': 0.005, 'reg_all': 0.05, 'n_factors': 150, 'n_epochs': 20}\n",
      "Evaluating RMSE, MAE, FCP of algorithm SVD.\n",
      "\n",
      "------------\n",
      "Mean RMSE: 0.9398\n",
      "Mean MAE : 0.7421\n",
      "Mean FCP : 0.6988\n",
      "------------\n",
      "------------\n",
      "Parameters combination 2 of 4\n",
      "params:  {'lr_all': 0.005, 'reg_all': 0.1, 'n_factors': 150, 'n_epochs': 20}\n",
      "Evaluating RMSE, MAE, FCP of algorithm SVD.\n",
      "\n",
      "------------\n",
      "Mean RMSE: 0.9401\n",
      "Mean MAE : 0.7441\n",
      "Mean FCP : 0.6995\n",
      "------------\n",
      "------------\n",
      "Parameters combination 3 of 4\n",
      "params:  {'lr_all': 0.005, 'reg_all': 0.08, 'n_factors': 150, 'n_epochs': 20}\n",
      "Evaluating RMSE, MAE, FCP of algorithm SVD.\n",
      "\n",
      "------------\n",
      "Mean RMSE: 0.9399\n",
      "Mean MAE : 0.7432\n",
      "Mean FCP : 0.6995\n",
      "------------\n",
      "------------\n",
      "Parameters combination 4 of 4\n",
      "params:  {'lr_all': 0.005, 'reg_all': 0.02, 'n_factors': 150, 'n_epochs': 20}\n",
      "Evaluating RMSE, MAE, FCP of algorithm SVD.\n",
      "\n",
      "------------\n",
      "Mean RMSE: 0.9400\n",
      "Mean MAE : 0.7411\n",
      "Mean FCP : 0.6968\n",
      "------------\n"
     ]
    }
   ],
   "source": [
    "grid_searchsvd.evaluate(data)"
   ]
  },
  {
   "cell_type": "code",
   "execution_count": 28,
   "metadata": {
    "collapsed": false
   },
   "outputs": [
    {
     "name": "stdout",
     "output_type": "stream",
     "text": [
      "0.765934908578\n",
      "{'lr_all': 0.005, 'reg_all': 0.4, 'n_factors': 150, 'n_epochs': 20}\n"
     ]
    }
   ],
   "source": [
    "print(grid_searchsvd.best_score['MAE'])\n",
    "print(grid_searchsvd.best_params['MAE'])"
   ]
  },
  {
   "cell_type": "code",
   "execution_count": 29,
   "metadata": {
    "collapsed": true
   },
   "outputs": [],
   "source": [
    "svd=SVD(lr_all=0.005, reg_all=0.4, n_factors= 150, n_epochs= 20)\n"
   ]
  },
  {
   "cell_type": "code",
   "execution_count": 30,
   "metadata": {
    "collapsed": false
   },
   "outputs": [
    {
     "name": "stdout",
     "output_type": "stream",
     "text": [
      "Evaluating RMSE, MAE of algorithm SVD.\n",
      "\n",
      "------------\n",
      "Fold 1\n",
      "RMSE: 0.9591\n",
      "MAE:  0.7674\n",
      "------------\n",
      "Fold 2\n",
      "RMSE: 0.9535\n",
      "MAE:  0.7653\n",
      "------------\n",
      "Fold 3\n",
      "RMSE: 0.9584\n",
      "MAE:  0.7651\n",
      "------------\n",
      "------------\n",
      "Mean RMSE: 0.9570\n",
      "Mean MAE : 0.7659\n",
      "------------\n",
      "------------\n"
     ]
    }
   ],
   "source": [
    "perfsvd=evaluate(svd, data, measures=['RMSE', 'MAE'])"
   ]
  }
 ],
 "metadata": {
  "kernelspec": {
   "display_name": "Python 2",
   "language": "python",
   "name": "python2"
  },
  "language_info": {
   "codemirror_mode": {
    "name": "ipython",
    "version": 2
   },
   "file_extension": ".py",
   "mimetype": "text/x-python",
   "name": "python",
   "nbconvert_exporter": "python",
   "pygments_lexer": "ipython2",
   "version": "2.7.13"
  }
 },
 "nbformat": 4,
 "nbformat_minor": 2
}
