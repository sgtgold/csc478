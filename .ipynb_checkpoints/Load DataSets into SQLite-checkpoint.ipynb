{
 "cells": [
  {
   "cell_type": "code",
   "execution_count": 4,
   "metadata": {
    "collapsed": true
   },
   "outputs": [],
   "source": [
    "import pandas as pd\n",
    "import os\n",
    "import pandas.io.sql as sql\n",
    "import sqlite3"
   ]
  },
  {
   "cell_type": "code",
   "execution_count": 9,
   "metadata": {
    "collapsed": false
   },
   "outputs": [
    {
     "name": "stdout",
     "output_type": "stream",
     "text": [
      "/Users/jacobpenrod/csc478/data\n"
     ]
    }
   ],
   "source": [
    "print( os.getcwd())\n",
    "os.chdir('/Users/jacobpenrod/csc478/data/ml-latest-small')\n",
    "#os.chdir('C:\\\\Users\\\\jake\\\\Google Drive\\\\DePaul\\\\CSC478\\\\data')"
   ]
  },
  {
   "cell_type": "code",
   "execution_count": 28,
   "metadata": {
    "collapsed": false
   },
   "outputs": [],
   "source": [
    "ratings_df = pd.read_csv('ratings.csv')\n",
    "#print(ratings_df.head())\n",
    "movies_df = pd.read_csv('movies.csv')\n",
    "#print(movies_df.head())"
   ]
  },
  {
   "cell_type": "code",
   "execution_count": 40,
   "metadata": {
    "collapsed": false
   },
   "outputs": [
    {
     "name": "stdout",
     "output_type": "stream",
     "text": [
      "   userId userName\n",
      "0       1   User 1\n",
      "1       2   User 2\n",
      "2       3   User 3\n",
      "3       4   User 4\n",
      "4       5   User 5\n"
     ]
    }
   ],
   "source": [
    "users = ratings_df.userId.unique()\n",
    "user_df = pd.DataFrame(users,columns=['userId']) \n",
    "user_df['userName'] = 'User ' + user_df['userId'].astype(str)\n",
    "print(user_df.head())"
   ]
  },
  {
   "cell_type": "code",
   "execution_count": 44,
   "metadata": {
    "collapsed": false
   },
   "outputs": [],
   "source": [
    "conn = sqlite3.connect(\"/Users/jacobpenrod/csc478/finalProject/db.sqlite3\")\n",
    "sql.to_sql(movies_df, name='movies_movies',if_exists='replace', con=conn,index=False)\n",
    "sql.to_sql(user_df, name='movies_users',if_exists='replace', con=conn,index=False)\n",
    "sql.to_sql(ratings_df, name='movies_csvratings',if_exists='replace', con=conn,index=False)"
   ]
  },
  {
   "cell_type": "code",
   "execution_count": 50,
   "metadata": {
    "collapsed": false
   },
   "outputs": [
    {
     "name": "stdout",
     "output_type": "stream",
     "text": [
      "                          Name         Director  \\\n",
      "0                    Toy Story    John Lasseter   \n",
      "1                      Jumanji     Joe Johnston   \n",
      "2             Grumpier Old Men    Howard Deutch   \n",
      "3            Waiting to Exhale  Forest Whitaker   \n",
      "4  Father of the Bride Part II    Charles Shyer   \n",
      "\n",
      "                                 Production  Rated            Runtime  Year  \\\n",
      "0                               Buena Vista      G  Less than 2 hours  1995   \n",
      "1          Sony Pictures Home Entertainment     PG  Less than 2 hours  1995   \n",
      "2                         Warner Home Video  PG-13  Less than 2 hours  1995   \n",
      "3  Twentieth Century Fox Home Entertainment      R  More than 2 hours  1995   \n",
      "4                                    Disney     PG  Less than 2 hours  1995   \n",
      "\n",
      "  imdbVotes           Actor1           Actor2           Actor3  \\\n",
      "0   671,735        Tom Hanks        Tim Allen      Don Rickles   \n",
      "1   223,000   Robin Williams    Jonathan Hyde    Kirsten Dunst   \n",
      "2    20,239   Walter Matthau      Jack Lemmon     Sophia Loren   \n",
      "3     7,803  Whitney Houston   Angela Bassett   Loretta Devine   \n",
      "4    27,994     Steve Martin     Diane Keaton     Martin Short   \n",
      "\n",
      "                       Actor4     Genre1      Genre2    Genre3  \n",
      "0                  Jim Varney  Animation   Adventure    Comedy  \n",
      "1              Bradley Pierce     Action   Adventure    Family  \n",
      "2                 Ann-Margret     Comedy     Romance       NaN  \n",
      "3                 Lela Rochon     Comedy       Drama   Romance  \n",
      "4   Kimberly Williams-Paisley     Comedy      Family   Romance  \n"
     ]
    }
   ],
   "source": [
    "os.chdir('/Users/jacobpenrod/csc478/data/')\n",
    "feat_df = pd.read_csv('features.csv',encoding = \"ISO-8859-1\")\n",
    "print(feat_df.head())\n",
    "\n",
    "sql.to_sql(feat_df, name='movies_moviefeatures',if_exists='replace', con=conn,index=False)"
   ]
  },
  {
   "cell_type": "code",
   "execution_count": null,
   "metadata": {
    "collapsed": true
   },
   "outputs": [],
   "source": []
  }
 ],
 "metadata": {
  "kernelspec": {
   "display_name": "Python 3",
   "language": "python",
   "name": "python3"
  },
  "language_info": {
   "codemirror_mode": {
    "name": "ipython",
    "version": 3
   },
   "file_extension": ".py",
   "mimetype": "text/x-python",
   "name": "python",
   "nbconvert_exporter": "python",
   "pygments_lexer": "ipython3",
   "version": "3.6.0"
  }
 },
 "nbformat": 4,
 "nbformat_minor": 2
}
