{
 "cells": [
  {
   "cell_type": "code",
   "execution_count": 4,
   "metadata": {
    "collapsed": true
   },
   "outputs": [],
   "source": [
    "import pandas as pd\n",
    "import os\n",
    "import pandas.io.sql as sql\n",
    "import sqlite3"
   ]
  },
  {
   "cell_type": "code",
   "execution_count": 5,
   "metadata": {},
   "outputs": [
    {
     "name": "stdout",
     "output_type": "stream",
     "text": [
      "/Users/jacobpenrod/csc478/data/ml-latest-small\n"
     ]
    }
   ],
   "source": [
    "print( os.getcwd())\n",
    "os.chdir('/Users/jacobpenrod/csc478/data/ml-latest-small')\n",
    "#os.chdir('C:\\\\Users\\\\jake\\\\Google Drive\\\\DePaul\\\\CSC478\\\\data')"
   ]
  },
  {
   "cell_type": "code",
   "execution_count": 6,
   "metadata": {},
   "outputs": [],
   "source": [
    "ratings_df = pd.read_csv('ratings.csv')\n",
    "#print(ratings_df.head())\n",
    "movies_df = pd.read_csv('movies.csv')\n",
    "#print(movies_df.head())"
   ]
  },
  {
   "cell_type": "code",
   "execution_count": 7,
   "metadata": {},
   "outputs": [
    {
     "name": "stdout",
     "output_type": "stream",
     "text": [
      "   userId userName\n",
      "0       1   User 1\n",
      "1       2   User 2\n",
      "2       3   User 3\n",
      "3       4   User 4\n",
      "4       5   User 5\n"
     ]
    }
   ],
   "source": [
    "users = ratings_df.userId.unique()\n",
    "user_df = pd.DataFrame(users,columns=['userId']) \n",
    "user_df['userName'] = 'User ' + user_df['userId'].astype(str)\n",
    "print(user_df.head())"
   ]
  },
  {
   "cell_type": "code",
   "execution_count": 9,
   "metadata": {},
   "outputs": [],
   "source": [
    "conn = sqlite3.connect(\"/Users/jacobpenrod/csc478/finalProject/db.sqlite3\")\n",
    "sql.to_sql(movies_df, name='movies_movies',if_exists='replace', con=conn,index=False)\n",
    "sql.to_sql(user_df, name='movies_users',if_exists='replace', con=conn,index=False)\n",
    "sql.to_sql(ratings_df, name='movies_csvratings',if_exists='replace', con=conn,index=False)"
   ]
  },
  {
   "cell_type": "code",
   "execution_count": null,
   "metadata": {},
   "outputs": [],
   "source": [
    "os.chdir('/Users/jacobpenrod/csc478/data/')\n",
    "feat_df = pd.read_csv('features.csv',encoding = \"ISO-8859-1\")\n",
    "print(feat_df.head())\n",
    "\n",
    "sql.to_sql(feat_df, name='movies_moviefeatures',if_exists='replace', con=conn,index=False)"
   ]
  },
  {
   "cell_type": "code",
   "execution_count": null,
   "metadata": {
    "collapsed": true
   },
   "outputs": [],
   "source": []
  }
 ],
 "metadata": {
  "kernelspec": {
   "display_name": "Python 3",
   "language": "python",
   "name": "python3"
  },
  "language_info": {
   "codemirror_mode": {
    "name": "ipython",
    "version": 3
   },
   "file_extension": ".py",
   "mimetype": "text/x-python",
   "name": "python",
   "nbconvert_exporter": "python",
   "pygments_lexer": "ipython3",
   "version": "3.6.0"
  }
 },
 "nbformat": 4,
 "nbformat_minor": 2
}
